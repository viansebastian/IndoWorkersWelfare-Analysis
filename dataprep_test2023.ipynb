{
 "cells": [
  {
   "cell_type": "code",
   "execution_count": 29,
   "metadata": {},
   "outputs": [
    {
     "data": {
      "text/html": [
       "<div>\n",
       "<style scoped>\n",
       "    .dataframe tbody tr th:only-of-type {\n",
       "        vertical-align: middle;\n",
       "    }\n",
       "\n",
       "    .dataframe tbody tr th {\n",
       "        vertical-align: top;\n",
       "    }\n",
       "\n",
       "    .dataframe thead th {\n",
       "        text-align: right;\n",
       "    }\n",
       "</style>\n",
       "<table border=\"1\" class=\"dataframe\">\n",
       "  <thead>\n",
       "    <tr style=\"text-align: right;\">\n",
       "      <th></th>\n",
       "      <th>province</th>\n",
       "      <th>year</th>\n",
       "      <th>perkotaan</th>\n",
       "      <th>perdesaan</th>\n",
       "      <th>perkotaanperdesaan</th>\n",
       "    </tr>\n",
       "  </thead>\n",
       "  <tbody>\n",
       "    <tr>\n",
       "      <th>0</th>\n",
       "      <td>INDONESIA</td>\n",
       "      <td>2023</td>\n",
       "      <td>569299</td>\n",
       "      <td>525050</td>\n",
       "      <td>550458</td>\n",
       "    </tr>\n",
       "  </tbody>\n",
       "</table>\n",
       "</div>"
      ],
      "text/plain": [
       "    province  year  perkotaan  perdesaan  perkotaanperdesaan\n",
       "0  INDONESIA  2023     569299     525050              550458"
      ]
     },
     "execution_count": 29,
     "metadata": {},
     "output_type": "execute_result"
    }
   ],
   "source": [
    "import pandas as pd \n",
    "import matplotlib.pyplot as plt\n",
    "\n",
    "garis_kemiskinan_2023 = {\n",
    "    'province' : 'INDONESIA',\n",
    "    'year' : [2023],\n",
    "    'perkotaan': [569299],\n",
    "    'perdesaan': [525050],\n",
    "    'perkotaanperdesaan': [550458]\n",
    "}\n",
    "\n",
    "pengeluaran_2023 = {\n",
    "    'province' : 'INDONESIA',\n",
    "    'year' : [2023],\n",
    "    'makanan': [769112],\n",
    "    'nonmakanan': [922338],\n",
    "    'total': [1691450]\n",
    "}\n",
    "\n",
    "ump_2023 = {\n",
    "    'province' : 'INDONESIA',\n",
    "    'year' : [2023],\n",
    "    'min_wage': [2923309.40]\n",
    "}\n",
    "\n",
    "upah_2023 = {\n",
    "    'province' : 'INDONESIA',\n",
    "    'year' : [2023],\n",
    "    'feb': [2944541],\n",
    "    'aug': [3178227]\n",
    "}\n",
    "\n",
    "pov_2023 = pd.DataFrame(garis_kemiskinan_2023)\n",
    "expenses_2023 = pd.DataFrame(pengeluaran_2023)\n",
    "min_wage_2023 = pd.DataFrame(ump_2023)\n",
    "wage_2023 = pd.DataFrame(upah_2023)\n",
    "\n",
    "pov_2023"
   ]
  },
  {
   "cell_type": "code",
   "execution_count": 30,
   "metadata": {},
   "outputs": [
    {
     "data": {
      "text/html": [
       "<div>\n",
       "<style scoped>\n",
       "    .dataframe tbody tr th:only-of-type {\n",
       "        vertical-align: middle;\n",
       "    }\n",
       "\n",
       "    .dataframe tbody tr th {\n",
       "        vertical-align: top;\n",
       "    }\n",
       "\n",
       "    .dataframe thead th {\n",
       "        text-align: right;\n",
       "    }\n",
       "</style>\n",
       "<table border=\"1\" class=\"dataframe\">\n",
       "  <thead>\n",
       "    <tr style=\"text-align: right;\">\n",
       "      <th></th>\n",
       "      <th>province</th>\n",
       "      <th>year</th>\n",
       "      <th>average_pov</th>\n",
       "      <th>max_pov</th>\n",
       "    </tr>\n",
       "  </thead>\n",
       "  <tbody>\n",
       "    <tr>\n",
       "      <th>0</th>\n",
       "      <td>INDONESIA</td>\n",
       "      <td>2023</td>\n",
       "      <td>548269.0</td>\n",
       "      <td>569299</td>\n",
       "    </tr>\n",
       "  </tbody>\n",
       "</table>\n",
       "</div>"
      ],
      "text/plain": [
       "    province  year  average_pov  max_pov\n",
       "0  INDONESIA  2023     548269.0   569299"
      ]
     },
     "execution_count": 30,
     "metadata": {},
     "output_type": "execute_result"
    }
   ],
   "source": [
    "pov_2023['average_pov'] = pov_2023[['perkotaan', 'perdesaan', 'perkotaanperdesaan']].mean(axis=1)\n",
    "pov_2023['max_pov'] = pov_2023[['perkotaan', 'perdesaan', 'perkotaanperdesaan']].max(axis=1)\n",
    "\n",
    "# Select the required columns\n",
    "pov_2023 = pov_2023[['province', 'year', 'average_pov', 'max_pov']]\n",
    "\n",
    "pov_2023"
   ]
  },
  {
   "cell_type": "code",
   "execution_count": 31,
   "metadata": {},
   "outputs": [
    {
     "data": {
      "text/html": [
       "<div>\n",
       "<style scoped>\n",
       "    .dataframe tbody tr th:only-of-type {\n",
       "        vertical-align: middle;\n",
       "    }\n",
       "\n",
       "    .dataframe tbody tr th {\n",
       "        vertical-align: top;\n",
       "    }\n",
       "\n",
       "    .dataframe thead th {\n",
       "        text-align: right;\n",
       "    }\n",
       "</style>\n",
       "<table border=\"1\" class=\"dataframe\">\n",
       "  <thead>\n",
       "    <tr style=\"text-align: right;\">\n",
       "      <th></th>\n",
       "      <th>province</th>\n",
       "      <th>year</th>\n",
       "      <th>total</th>\n",
       "    </tr>\n",
       "  </thead>\n",
       "  <tbody>\n",
       "    <tr>\n",
       "      <th>0</th>\n",
       "      <td>INDONESIA</td>\n",
       "      <td>2023</td>\n",
       "      <td>1691450</td>\n",
       "    </tr>\n",
       "  </tbody>\n",
       "</table>\n",
       "</div>"
      ],
      "text/plain": [
       "    province  year    total\n",
       "0  INDONESIA  2023  1691450"
      ]
     },
     "execution_count": 31,
     "metadata": {},
     "output_type": "execute_result"
    }
   ],
   "source": [
    "expenses_2023 = expenses_2023.drop(columns=['makanan', 'nonmakanan'])\n",
    "expenses_2023"
   ]
  },
  {
   "cell_type": "code",
   "execution_count": 32,
   "metadata": {},
   "outputs": [
    {
     "data": {
      "text/html": [
       "<div>\n",
       "<style scoped>\n",
       "    .dataframe tbody tr th:only-of-type {\n",
       "        vertical-align: middle;\n",
       "    }\n",
       "\n",
       "    .dataframe tbody tr th {\n",
       "        vertical-align: top;\n",
       "    }\n",
       "\n",
       "    .dataframe thead th {\n",
       "        text-align: right;\n",
       "    }\n",
       "</style>\n",
       "<table border=\"1\" class=\"dataframe\">\n",
       "  <thead>\n",
       "    <tr style=\"text-align: right;\">\n",
       "      <th></th>\n",
       "      <th>province</th>\n",
       "      <th>year</th>\n",
       "      <th>min_wage</th>\n",
       "    </tr>\n",
       "  </thead>\n",
       "  <tbody>\n",
       "    <tr>\n",
       "      <th>0</th>\n",
       "      <td>INDONESIA</td>\n",
       "      <td>2023</td>\n",
       "      <td>2923309.4</td>\n",
       "    </tr>\n",
       "  </tbody>\n",
       "</table>\n",
       "</div>"
      ],
      "text/plain": [
       "    province  year   min_wage\n",
       "0  INDONESIA  2023  2923309.4"
      ]
     },
     "execution_count": 32,
     "metadata": {},
     "output_type": "execute_result"
    }
   ],
   "source": [
    "min_wage_2023"
   ]
  },
  {
   "cell_type": "code",
   "execution_count": 33,
   "metadata": {},
   "outputs": [
    {
     "data": {
      "text/html": [
       "<div>\n",
       "<style scoped>\n",
       "    .dataframe tbody tr th:only-of-type {\n",
       "        vertical-align: middle;\n",
       "    }\n",
       "\n",
       "    .dataframe tbody tr th {\n",
       "        vertical-align: top;\n",
       "    }\n",
       "\n",
       "    .dataframe thead th {\n",
       "        text-align: right;\n",
       "    }\n",
       "</style>\n",
       "<table border=\"1\" class=\"dataframe\">\n",
       "  <thead>\n",
       "    <tr style=\"text-align: right;\">\n",
       "      <th></th>\n",
       "      <th>province</th>\n",
       "      <th>year</th>\n",
       "      <th>feb</th>\n",
       "      <th>aug</th>\n",
       "    </tr>\n",
       "  </thead>\n",
       "  <tbody>\n",
       "    <tr>\n",
       "      <th>0</th>\n",
       "      <td>INDONESIA</td>\n",
       "      <td>2023</td>\n",
       "      <td>2944541</td>\n",
       "      <td>3178227</td>\n",
       "    </tr>\n",
       "  </tbody>\n",
       "</table>\n",
       "</div>"
      ],
      "text/plain": [
       "    province  year      feb      aug\n",
       "0  INDONESIA  2023  2944541  3178227"
      ]
     },
     "execution_count": 33,
     "metadata": {},
     "output_type": "execute_result"
    }
   ],
   "source": [
    "wage_2023"
   ]
  },
  {
   "cell_type": "code",
   "execution_count": 34,
   "metadata": {},
   "outputs": [
    {
     "data": {
      "text/html": [
       "<div>\n",
       "<style scoped>\n",
       "    .dataframe tbody tr th:only-of-type {\n",
       "        vertical-align: middle;\n",
       "    }\n",
       "\n",
       "    .dataframe tbody tr th {\n",
       "        vertical-align: top;\n",
       "    }\n",
       "\n",
       "    .dataframe thead th {\n",
       "        text-align: right;\n",
       "    }\n",
       "</style>\n",
       "<table border=\"1\" class=\"dataframe\">\n",
       "  <thead>\n",
       "    <tr style=\"text-align: right;\">\n",
       "      <th></th>\n",
       "      <th>province</th>\n",
       "      <th>year</th>\n",
       "      <th>average_wage</th>\n",
       "    </tr>\n",
       "  </thead>\n",
       "  <tbody>\n",
       "    <tr>\n",
       "      <th>0</th>\n",
       "      <td>INDONESIA</td>\n",
       "      <td>2023</td>\n",
       "      <td>3061384.0</td>\n",
       "    </tr>\n",
       "  </tbody>\n",
       "</table>\n",
       "</div>"
      ],
      "text/plain": [
       "    province  year  average_wage\n",
       "0  INDONESIA  2023     3061384.0"
      ]
     },
     "execution_count": 34,
     "metadata": {},
     "output_type": "execute_result"
    }
   ],
   "source": [
    "wage_2023['average_wage'] = wage_2023[['feb', 'aug']].mean(axis=1)\n",
    "wage_2023 = wage_2023[['province', 'year', 'average_wage']]\n",
    "\n",
    "wage_2023"
   ]
  },
  {
   "cell_type": "code",
   "execution_count": 35,
   "metadata": {},
   "outputs": [
    {
     "name": "stderr",
     "output_type": "stream",
     "text": [
      "C:\\Users\\vian8\\AppData\\Local\\Temp\\ipykernel_21480\\2571051892.py:1: SettingWithCopyWarning: \n",
      "A value is trying to be set on a copy of a slice from a DataFrame.\n",
      "Try using .loc[row_indexer,col_indexer] = value instead\n",
      "\n",
      "See the caveats in the documentation: https://pandas.pydata.org/pandas-docs/stable/user_guide/indexing.html#returning-a-view-versus-a-copy\n",
      "  wage_2023['average_wage'] = wage_2023['average_wage']/ 168\n"
     ]
    },
    {
     "data": {
      "text/html": [
       "<div>\n",
       "<style scoped>\n",
       "    .dataframe tbody tr th:only-of-type {\n",
       "        vertical-align: middle;\n",
       "    }\n",
       "\n",
       "    .dataframe tbody tr th {\n",
       "        vertical-align: top;\n",
       "    }\n",
       "\n",
       "    .dataframe thead th {\n",
       "        text-align: right;\n",
       "    }\n",
       "</style>\n",
       "<table border=\"1\" class=\"dataframe\">\n",
       "  <thead>\n",
       "    <tr style=\"text-align: right;\">\n",
       "      <th></th>\n",
       "      <th>province</th>\n",
       "      <th>year</th>\n",
       "      <th>average_wage</th>\n",
       "    </tr>\n",
       "  </thead>\n",
       "  <tbody>\n",
       "    <tr>\n",
       "      <th>0</th>\n",
       "      <td>INDONESIA</td>\n",
       "      <td>2023</td>\n",
       "      <td>18222.52381</td>\n",
       "    </tr>\n",
       "  </tbody>\n",
       "</table>\n",
       "</div>"
      ],
      "text/plain": [
       "    province  year  average_wage\n",
       "0  INDONESIA  2023   18222.52381"
      ]
     },
     "execution_count": 35,
     "metadata": {},
     "output_type": "execute_result"
    }
   ],
   "source": [
    "wage_2023['average_wage'] = wage_2023['average_wage']/ 168\n",
    "wage_2023"
   ]
  },
  {
   "cell_type": "code",
   "execution_count": 36,
   "metadata": {},
   "outputs": [
    {
     "name": "stdout",
     "output_type": "stream",
     "text": [
      "exported pov_2023.df to pov_2023.csv\n",
      "exported expenses_2023.df to expenses_2023.csv\n",
      "exported min_wage_2023.df to min_wage_2023.csv\n",
      "exported wage_2023.df to wage_2023.csv\n"
     ]
    }
   ],
   "source": [
    "pov_2023.to_csv('new_data/pov_2023.csv', index=False)\n",
    "print('exported pov_2023.df to pov_2023.csv')\n",
    "\n",
    "expenses_2023.to_csv('new_data/expenses_2023.csv', index=False)\n",
    "print('exported expenses_2023.df to expenses_2023.csv')\n",
    "\n",
    "min_wage_2023.to_csv('new_data/min_wage_2023.csv', index=False)\n",
    "print('exported min_wage_2023.df to min_wage_2023.csv')\n",
    "\n",
    "wage_2023.to_csv('new_data/wage_2023.csv', index=False)\n",
    "print('exported wage_2023.df to wage_2023.csv')\n"
   ]
  }
 ],
 "metadata": {
  "kernelspec": {
   "display_name": "fall_detect",
   "language": "python",
   "name": "python3"
  },
  "language_info": {
   "codemirror_mode": {
    "name": "ipython",
    "version": 3
   },
   "file_extension": ".py",
   "mimetype": "text/x-python",
   "name": "python",
   "nbconvert_exporter": "python",
   "pygments_lexer": "ipython3",
   "version": "3.9.19"
  }
 },
 "nbformat": 4,
 "nbformat_minor": 2
}
